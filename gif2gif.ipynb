{
  "nbformat": 4,
  "nbformat_minor": 0,
  "metadata": {
    "colab": {
      "provenance": [],
      "private_outputs": true,
      "gpuType": "T4",
      "authorship_tag": "ABX9TyNQ4sg8gKHhVNoDdwaGP0k5",
      "include_colab_link": true
    },
    "kernelspec": {
      "name": "python3",
      "display_name": "Python 3"
    },
    "language_info": {
      "name": "python"
    },
    "accelerator": "GPU"
  },
  "cells": [
    {
      "cell_type": "markdown",
      "metadata": {
        "id": "view-in-github",
        "colab_type": "text"
      },
      "source": [
        "<a href=\"https://colab.research.google.com/github/redromnon/gif2gif-sd/blob/main/gif2gif.ipynb\" target=\"_parent\"><img src=\"https://colab.research.google.com/assets/colab-badge.svg\" alt=\"Open In Colab\"/></a>"
      ]
    },
    {
      "cell_type": "code",
      "execution_count": null,
      "metadata": {
        "id": "Wkhz2EU4yP_h"
      },
      "outputs": [],
      "source": [
        "!pip -q install moviepy pillow diffusers transformers xformers git+https://github.com/huggingface/accelerate.git controlnet_aux"
      ]
    },
    {
      "cell_type": "code",
      "source": [
        "# @title Setup and Model Selection\n",
        "from PIL import Image\n",
        "from diffusers import StableDiffusionControlNetImg2ImgPipeline, ControlNetModel, UniPCMultistepScheduler, StableDiffusionImg2ImgPipeline, EulerAncestralDiscreteScheduler\n",
        "import torch, mediapy\n",
        "import numpy as np\n",
        "from diffusers.utils import load_image\n",
        "from diffusers.models import AutoencoderKL\n",
        "import torch\n",
        "\n",
        "from controlnet_aux import CannyDetector\n",
        "canny = CannyDetector()\n",
        "\n",
        "#SD\n",
        "model = \"\" #@param {type:\"string\"}\n",
        "\n",
        "controlnet = ControlNetModel.from_pretrained(\n",
        "    \"lllyasviel/sd-controlnet-canny\", torch_dtype=torch.float16\n",
        ")\n",
        "\n",
        "\n",
        "#Using Img2Img ControlNet pipeline\n",
        "pipe = StableDiffusionControlNetImg2ImgPipeline.from_pretrained(\n",
        "    model,\n",
        "    controlnet=controlnet,\n",
        "    safety_checker=None,\n",
        "    torch_dtype=torch.float16,\n",
        "    vae=AutoencoderKL.from_pretrained(\"stabilityai/sd-vae-ft-mse\", torch_dtype=torch.float16).to(\"cuda\")\n",
        ")\n",
        "\n",
        "pipe.scheduler = EulerAncestralDiscreteScheduler.from_config(pipe.scheduler.config)\n",
        "pipe.enable_vae_slicing()\n",
        "pipe.enable_xformers_memory_efficient_attention()\n",
        "pipe.to(\"cuda\")\n",
        "\n",
        "del controlnet"
      ],
      "metadata": {
        "id": "AizGosrtq5B0",
        "cellView": "form"
      },
      "execution_count": null,
      "outputs": []
    },
    {
      "cell_type": "code",
      "source": [
        "# @title Select GIF\n",
        "uri = \"\" #@param {type:\"string\"}\n",
        "#@markdown Paste the link to the GIF file <br/>\n",
        "#@markdown **Make sure the GIF image is in 1:1 or square ratio**\n",
        "#Read GIF\n",
        "\n",
        "from PIL import Image\n",
        "from PIL import GifImagePlugin\n",
        "from diffusers.utils import load_image\n",
        "import mediapy, requests\n",
        "from moviepy.editor import VideoFileClip\n",
        "\n",
        "\n",
        "with open('sample.gif', 'wb') as f:\n",
        "  f.write(requests.get(uri).content)\n",
        "\n",
        "imageObject = Image.open(\"./sample.gif\")\n",
        "\n",
        "print(f\"Is GIF? {imageObject.is_animated}\")\n",
        "\n",
        "print(f\"Total frames in GIF: {imageObject.n_frames}\")\n"
      ],
      "metadata": {
        "id": "v7K_DFJKyTaU"
      },
      "execution_count": null,
      "outputs": []
    },
    {
      "cell_type": "code",
      "source": [
        "# @title Adjust Canny threshold\n",
        "frame = 0 #@param {type:\"integer\"}\n",
        "low_threshold = 50 #@param {type:\"number\"}\n",
        "high_threshold = 120 #@param {type:\"number\"}\n",
        "#@markdown Apply and test canny edge detection on a particular frame\n",
        "\n",
        "\n",
        "#CHECK CONTROLNET CONDITION\n",
        "imageObject.seek(frame)\n",
        "\n",
        "#Convert GIF file type to Image file type\n",
        "img = Image.new('RGB', imageObject.size)\n",
        "img.paste(imageObject)\n",
        "\n",
        "#Canny\n",
        "control_image = canny(img, low_threshold=low_threshold, high_threshold=high_threshold)\n",
        "control_image"
      ],
      "metadata": {
        "id": "41BYOJ87j6OT",
        "cellView": "form"
      },
      "execution_count": null,
      "outputs": []
    },
    {
      "cell_type": "markdown",
      "source": [
        "**Prompts**"
      ],
      "metadata": {
        "id": "BghGq8Z0CrB5"
      }
    },
    {
      "cell_type": "code",
      "source": [
        "prompt = \"\"\"\n",
        "<insert you prompt here>\n",
        "\"\"\"\n",
        "\n",
        "n_prompt = \"\"\"\n",
        "<insert things to avoid>\n",
        "\"\"\""
      ],
      "metadata": {
        "id": "P3HznFt-BoD1"
      },
      "execution_count": null,
      "outputs": []
    },
    {
      "cell_type": "code",
      "source": [
        "# @title Generate\n",
        "#@markdown The range of frames to consider from the GIF:\n",
        "min_frame = 0 #@param {type:\"number\"}\n",
        "max_frame = 10 #@param {type:\"number\"}\n",
        "#@markdown Pipeline parameters:\n",
        "num_inference_steps = 20 #@param {type:\"slider\", min:0, max:50, step:1}\n",
        "guidance_scale = 7.5 #@param {type:\"slider\", min:0, max:20, step:0.5}\n",
        "strength = 0.3 #@param {type:\"slider\", min:0, max:1, step:0.1}\n",
        "controlnet_conditioning_scale = 0.8 #@param {type:\"slider\", min:0, max:1, step:0.1}\n",
        "\n",
        "\n",
        "# Select individual frames from the loaded animated GIF file\n",
        "frames=[]\n",
        "\n",
        "for frame in range(min_frame, max_frame):\n",
        "\n",
        "    #Save frames\n",
        "    imageObject.seek(frame)\n",
        "\n",
        "    #Convert GIF file type to Image file type\n",
        "    img = Image.new('RGB', imageObject.size)\n",
        "    img.paste(imageObject)\n",
        "\n",
        "    frames.append(img.resize((512,512)))\n",
        "\n",
        "\n",
        "###################################################################\n",
        "#RUN\n",
        "import random\n",
        "\n",
        "#Set random seed\n",
        "seed= random.randint(0, 2147483647)\n",
        "#seed = 123\n",
        "\n",
        "\n",
        "output_frames = []\n",
        "\n",
        "\n",
        "#RUN\n",
        "for frame in frames:\n",
        "\n",
        "  #Convert frame to lineart\n",
        "  control_image = canny(frame, low_threshold, high_threshold)\n",
        "\n",
        "\n",
        "  #Run pipeline\n",
        "  output = pipe(\n",
        "      prompt,\n",
        "      image=frame,\n",
        "      control_image=control_image,\n",
        "      negative_prompt=n_prompt,\n",
        "      num_inference_steps=num_inference_steps,\n",
        "      generator=torch.manual_seed(seed),\n",
        "      guidance_scale=guidance_scale,\n",
        "      strength=strength,\n",
        "      controlnet_conditioning_scale=controlnet_conditioning_scale\n",
        "  ).images[0]\n",
        "\n",
        "  #Append\n",
        "  output_frames.append(output)"
      ],
      "metadata": {
        "id": "9Ro1E6kH5Jop",
        "cellView": "form"
      },
      "execution_count": null,
      "outputs": []
    },
    {
      "cell_type": "code",
      "source": [
        "# @title Convert to GIF\n",
        "fps = 3 #@param {type:\"slider\", min:0, max:30, step:1}\n",
        "#@markdown To **view** the newly generated GIF, click the files icon on the left-hand side and select **\"clip.gif\"** <br/>\n",
        "#@markdown You also have an option **download** \"clip.gif\" to your computer\n",
        "\n",
        "#Convert to GIF\n",
        "import moviepy.editor as mpy\n",
        "\n",
        "# Convert each PIL.Image.Image object to a NumPy array\n",
        "frames = [np.array(img) for img in output_frames]\n",
        "\n",
        "clip = mpy.ImageSequenceClip(frames, fps=fps)\n",
        "clip.write_gif('{}.gif'.format(\"clip\"), fps=fps)"
      ],
      "metadata": {
        "id": "Gh4bLWsRDp9F",
        "cellView": "form"
      },
      "execution_count": null,
      "outputs": []
    }
  ]
}